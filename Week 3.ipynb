{
 "cells": [
  {
   "cell_type": "code",
   "execution_count": 1,
   "id": "b4da3278",
   "metadata": {},
   "outputs": [],
   "source": [
    "myFunction = lambda x: 0.2*x**2 - 2*x + 6\n",
    "lowerBound = 1\n",
    "upperBound = 6\n",
    "maxIter = 10\n",
    "errTarget = 0.01\n",
    "n = 10\n",
    "dx = (upperBound-lowerBound)/n"
   ]
  },
  {
   "cell_type": "markdown",
   "id": "73183c85",
   "metadata": {},
   "source": [
    "# Essential Functions"
   ]
  },
  {
   "cell_type": "code",
   "execution_count": null,
   "id": "223f07dc",
   "metadata": {},
   "outputs": [],
   "source": []
  },
  {
   "cell_type": "markdown",
   "id": "e1c2897a",
   "metadata": {},
   "source": [
    "# Direct Search"
   ]
  },
  {
   "cell_type": "code",
   "execution_count": 2,
   "id": "60fa7164",
   "metadata": {},
   "outputs": [
    {
     "name": "stdout",
     "output_type": "stream",
     "text": [
      "The minimum point lies in (4.5,5.5)\n"
     ]
    }
   ],
   "source": [
    "#Set the initial value\n",
    "def directSearch(a, b, f):\n",
    "    x1 = a\n",
    "    x2 = x1 + dx\n",
    "    x3 = x2 + dx\n",
    "\n",
    "    while f(x1)>=f(x2) and f(x2)>=f(x3):\n",
    "\n",
    "#         print(f\"f(x1)={round(f(x1),4)} \\t f(x2)={round(f(x2),4)} \\t f(x3)={round(f(x3),4)}\\n\")\n",
    "\n",
    "        if x3 < b:\n",
    "            x1 = x2\n",
    "            x2 = x3\n",
    "            x3 = x2 + dx\n",
    "        else:\n",
    "            return \"There's no minima nor maxima\"\n",
    "\n",
    "    print(f\"The minimum point lies in ({round(x1,4)},{round(x3,4)})\")\n",
    "    \n",
    "directSearch(a = lowerBound, b = upperBound, f = myFunction)"
   ]
  },
  {
   "cell_type": "markdown",
   "id": "367b6d3a",
   "metadata": {},
   "source": [
    "# Bounding Phase Search"
   ]
  },
  {
   "cell_type": "code",
   "execution_count": 3,
   "id": "14283cb8",
   "metadata": {},
   "outputs": [
    {
     "name": "stdout",
     "output_type": "stream",
     "text": [
      "The minimum point lies in (2.5,8.5)\n"
     ]
    }
   ],
   "source": [
    "#Initial guess\n",
    "def boundingPhase(a, b, delta, f):\n",
    "    x0 = a\n",
    "    k = 0\n",
    "\n",
    "    while True:\n",
    "        if f(x0-abs(delta))>=f(x0) and f(x0)>=f(x0+abs(delta)):\n",
    "            break\n",
    "        elif f(x0-abs(delta))<=f(x0) and f(x0)<=f(x0+abs(delta)):\n",
    "            delta = -delta\n",
    "            break\n",
    "        else:\n",
    "            x0 = x0 + delta\n",
    "\n",
    "    while True:\n",
    "        xnew = x0 + delta*2**k\n",
    "        if f(xnew)<f(x0):\n",
    "            k +=1\n",
    "            xold = x0\n",
    "            x0 = xnew\n",
    "        else:\n",
    "            print (f\"The minimum point lies in ({round(xold,4)},{round(xnew,4)})\")\n",
    "            break\n",
    "            \n",
    "boundingPhase(a = lowerBound, b = upperBound, delta = dx, f = myFunction)"
   ]
  },
  {
   "cell_type": "markdown",
   "id": "1689c379",
   "metadata": {},
   "source": [
    "# Interval Halving Search"
   ]
  },
  {
   "cell_type": "code",
   "execution_count": 4,
   "id": "141879b2",
   "metadata": {},
   "outputs": [
    {
     "name": "stdout",
     "output_type": "stream",
     "text": [
      "The minimum point lies in (4.9941,5.0039)\n"
     ]
    }
   ],
   "source": [
    "#Set Initital Value\n",
    "def intervalHalving(a, b, errTarget, f):\n",
    "    xm = (a+b)/2\n",
    "\n",
    "\n",
    "    while (b-a)>errTarget:\n",
    "        x1 = a+((b-a)/4)\n",
    "        x2 = b-((b-a)/4)\n",
    "\n",
    "        if f(x1)<f(xm):\n",
    "            b  = xm\n",
    "            xm = x1\n",
    "        elif f(x2)<f(xm):\n",
    "            a  = xm\n",
    "            xm = x2\n",
    "        else:\n",
    "            a = x1\n",
    "            b = x2\n",
    "\n",
    "    print(f\"The minimum point lies in ({round(a,4)},{round(b,4)})\")\n",
    "    \n",
    "intervalHalving(a = lowerBound, b = upperBound, errTarget = errTarget, f = myFunction)"
   ]
  },
  {
   "cell_type": "markdown",
   "id": "bbd84bcf",
   "metadata": {},
   "source": [
    "# Fibonacci Search"
   ]
  },
  {
   "cell_type": "code",
   "execution_count": 5,
   "id": "eec2f14a",
   "metadata": {},
   "outputs": [],
   "source": [
    "def generateFibonacci(arrayLength):\n",
    "    fibonacciArray = [1, 1]\n",
    "    \n",
    "    for i in range(arrayLength - 2):\n",
    "        result = fibonacciArray[-1]  + fibonacciArray[-2]\n",
    "        fibonacciArray.append(result)\n",
    "        \n",
    "    return fibonacciArray"
   ]
  },
  {
   "cell_type": "code",
   "execution_count": 6,
   "id": "368d73fd",
   "metadata": {},
   "outputs": [],
   "source": [
    "def fibonacciSearch(usrFunction, a, b, fibonacciLength):\n",
    "\n",
    "    fibonacciArray = generateFibonacci(fibonacciLength)\n",
    "\n",
    "    while fibonacciArray[-1] + fibonacciArray[-2] != 2:\n",
    "        fibonacciLastIndex = len(fibonacciArray) - 1\n",
    "\n",
    "        c_index = -3\n",
    "        d_index = -2\n",
    "\n",
    "\n",
    "        c = a + (fibonacciArray[c_index]/fibonacciArray[fibonacciLastIndex] * (b - a))\n",
    "        d = a + (fibonacciArray[d_index]/fibonacciArray[fibonacciLastIndex] * (b - a))\n",
    "\n",
    "        if usrFunction(c) < usrFunction(d):\n",
    "            b = d\n",
    "            d = c\n",
    "        else:\n",
    "            d = c\n",
    "            a = c\n",
    "\n",
    "        fibonacciArray.pop()\n",
    "        \n",
    "    return [c, usrFunction(c)]"
   ]
  },
  {
   "cell_type": "markdown",
   "id": "474e93fe",
   "metadata": {},
   "source": [
    "# Golden Section Search"
   ]
  },
  {
   "cell_type": "code",
   "execution_count": 7,
   "id": "397f3f16",
   "metadata": {},
   "outputs": [],
   "source": [
    "PHI = (1 + 5 ** 0.5) / 2\n",
    "\n",
    "def goldenSection(usrFunction, a, b, maxIter):\n",
    "    for i in range(maxIter):\n",
    "        c = b + (a - b) / PHI\n",
    "        d = a + (b - a) / PHI\n",
    "\n",
    "        if usrFunction(c) < usrFunction(d):\n",
    "            b = d\n",
    "            d = c\n",
    "        else:\n",
    "            d = c\n",
    "            a = c\n",
    "        \n",
    "    return [c, usrFunction(c)]"
   ]
  },
  {
   "cell_type": "markdown",
   "id": "a2dac9ef",
   "metadata": {},
   "source": [
    "# Successive Quadratic"
   ]
  },
  {
   "cell_type": "code",
   "execution_count": 8,
   "id": "0d43cd5f",
   "metadata": {},
   "outputs": [],
   "source": [
    "def successiveQuadratic(usrFunction, x1, delta, maxIter):\n",
    "    x2 = x1 + delta\n",
    "    \n",
    "    if usrFunction(x1) > usrFunction(x2):\n",
    "        x3 = x1 + (2 * delta)\n",
    "    else:\n",
    "        x3 = x1 - (2 * delta)\n",
    "        \n",
    "    threeBestVal = dict({x1:usrFunction(x1), x2:usrFunction(x2), x3:usrFunction(x3),})\n",
    "    threeBestVal = {k: v for k, v in sorted(threeBestVal.items(), key=lambda item: item[1])}\n",
    "    \n",
    "    for i in range(maxIter):\n",
    "        a1 = (threeBestVal[x2] - threeBestVal[x1]) / (x2 - x1)\n",
    "        a2 = (1 / (x3 - x2)) * (((threeBestVal[x3] - threeBestVal[x1]) / (x3 - x1)) - a1)\n",
    "\n",
    "        x_bar = ((x1 + x2) / 2) - (a1 / (2 * a2))\n",
    "        threeBestVal[x_bar] = usrFunction(x_bar)\n",
    "\n",
    "        threeBestVal = {k: v for k, v in sorted(threeBestVal.items(), key=lambda item: item[1])}\n",
    "        \n",
    "        threeBestValIndex = list(threeBestVal.keys())\n",
    "        xBarLocation = threeBestValIndex.index(x_bar)\n",
    "        \n",
    "        if xBarLocation != 0:\n",
    "            [x1, x2, x3] = threeBestValIndex[xBarLocation-1:xBarLocation+2]\n",
    "        else:\n",
    "            [x1, x2, x3] = threeBestValIndex[0:3]\n",
    "            \n",
    "        threeBestVal = dict({x1:usrFunction(x1), x2:usrFunction(x2), x3:usrFunction(x3),})\n",
    "        \n",
    "    return [x_bar, usrFunction(x_bar)]"
   ]
  },
  {
   "cell_type": "markdown",
   "id": "2fa00739",
   "metadata": {},
   "source": [
    "# Newton-Rhapson Method"
   ]
  },
  {
   "cell_type": "code",
   "execution_count": 9,
   "id": "fec5e7df",
   "metadata": {},
   "outputs": [
    {
     "name": "stdout",
     "output_type": "stream",
     "text": [
      "The minimum point lies in 4.995\n"
     ]
    }
   ],
   "source": [
    "def newtonRhapson(x, errTarget, f):\n",
    "    def first_deriv(x):\n",
    "        if abs(x)>0.01:\n",
    "            delta_x = abs(x)*0.01\n",
    "        else:\n",
    "            delta_x = 0.0001\n",
    "        return (f(x+delta_x)-f(x))/delta_x\n",
    "\n",
    "    def second_deriv(x):\n",
    "        if abs(x)>0.01:\n",
    "            delta_x = abs(x)*0.01\n",
    "        else:\n",
    "            delta_x = 0.0001\n",
    "        return (f(x+2*delta_x)-2*f(x+delta_x)+f(x))/delta_x**2\n",
    "    \n",
    "    xnew = 0\n",
    "    \n",
    "    while abs(first_deriv(x)) > errTarget:\n",
    "        xnew = x - (first_deriv(x)/second_deriv(x))\n",
    "        x = xnew\n",
    "        \n",
    "    print(f\"The minimum point lies in {round(xnew,4)}\")\n",
    "    \n",
    "newtonRhapson(x = lowerBound, f = myFunction, errTarget = errTarget)"
   ]
  },
  {
   "cell_type": "markdown",
   "id": "36ee2c4c",
   "metadata": {},
   "source": [
    "# Bisection Method"
   ]
  },
  {
   "cell_type": "code",
   "execution_count": 10,
   "id": "e0b2daec",
   "metadata": {},
   "outputs": [
    {
     "name": "stdout",
     "output_type": "stream",
     "text": [
      "The minimum point lies in 4.9844\n"
     ]
    }
   ],
   "source": [
    "def bisection(f, a, b, errTarget):\n",
    "    def first_deriv(x):\n",
    "        if abs(x)>0.01:\n",
    "            delta_x = abs(x)*0.01\n",
    "        else:\n",
    "            delta_x = 0.0001\n",
    "        return (f(x+delta_x)-f(x))/delta_x\n",
    "\n",
    "    #Define two points\n",
    "    x1 = a\n",
    "    x2 = b\n",
    "    z = (x1+x2)/2\n",
    "\n",
    "    while abs(first_deriv(z))>errTarget:\n",
    "        z = (x1+x2)/2\n",
    "        if first_deriv(z)<0:\n",
    "            x1 = z\n",
    "        elif first_deriv(z)>0:\n",
    "            x2 = z\n",
    "\n",
    "    print(f\"The minimum point lies in {round(z,4)}\")\n",
    "    \n",
    "bisection(a = lowerBound, f = myFunction, errTarget = errTarget, b = upperBound)"
   ]
  },
  {
   "cell_type": "markdown",
   "id": "ca5bee47",
   "metadata": {},
   "source": [
    "# Secant Method"
   ]
  },
  {
   "cell_type": "code",
   "execution_count": 11,
   "id": "a252530b",
   "metadata": {},
   "outputs": [
    {
     "name": "stdout",
     "output_type": "stream",
     "text": [
      "The minimum point lies in 4.9751\n"
     ]
    }
   ],
   "source": [
    "def secant(f, a, b):\n",
    "    def first_deriv(x):\n",
    "        if abs(x)>0.01:\n",
    "            delta_x = abs(x)*0.01\n",
    "        else:\n",
    "            delta_x = 0.0001\n",
    "        return (f(x+delta_x)-f(x))/delta_x\n",
    "\n",
    "    #Define two points\n",
    "    x1 = a\n",
    "    x2 = b\n",
    "    z = x2 - (first_deriv(x2)*(x2-x1)/(first_deriv(x2)-first_deriv(x1)))\n",
    "\n",
    "    while abs(first_deriv(z))>errTarget:\n",
    "        z = x2 - (first_deriv(x2)*(x2-x1)/(first_deriv(x2)-first_deriv(x1)))\n",
    "        if first_deriv(z)<0:\n",
    "            x1 = z\n",
    "        elif first_deriv(z)>0:\n",
    "            x2 = z\n",
    "\n",
    "    print(f\"The minimum point lies in {round(z,4)}\")\n",
    "    \n",
    "secant(a = lowerBound, f = myFunction, b = upperBound)"
   ]
  },
  {
   "cell_type": "markdown",
   "id": "bcf109e5",
   "metadata": {},
   "source": [
    "# Output Test"
   ]
  },
  {
   "cell_type": "code",
   "execution_count": 12,
   "id": "fa19a0db",
   "metadata": {},
   "outputs": [
    {
     "name": "stdout",
     "output_type": "stream",
     "text": [
      "\u001b[32mFibonacci Search\u001b[0m\n",
      "Function minima/maxima is equal to 1.0 at x = 5.0. \n",
      "\n",
      "\u001b[32mGolden Section Search\u001b[0m\n",
      "Function minima/maxima is equal to 1.0000132213922708 at x = 4.991869381244217. \n",
      "\n",
      "\u001b[32mSuccessive Quadratic Search\u001b[0m\n",
      "Function minima/maxima is equal to 1.0 at x = 4.999999999999998.\n"
     ]
    }
   ],
   "source": [
    "print(\"\\x1b[32mFibonacci Search\\x1b[0m\")\n",
    "[x_min, y_min] = fibonacciSearch(usrFunction = myFunction, a = lowerBound, b = upperBound, fibonacciLength = 10)\n",
    "print(f\"Function minima/maxima is equal to {y_min} at x = {x_min}. \\n\")\n",
    "\n",
    "print(\"\\x1b[32mGolden Section Search\\x1b[0m\")\n",
    "[x_min, y_min] = goldenSection(usrFunction = myFunction, a = lowerBound, b = upperBound, maxIter = maxIter)\n",
    "print(f\"Function minima/maxima is equal to {y_min} at x = {x_min}. \\n\")\n",
    "\n",
    "print(\"\\x1b[32mSuccessive Quadratic Search\\x1b[0m\")\n",
    "[x_min, y_min] = successiveQuadratic(usrFunction = myFunction, x1 = lowerBound, maxIter = maxIter, delta = 1)\n",
    "print(f\"Function minima/maxima is equal to {y_min} at x = {x_min}.\")"
   ]
  }
 ],
 "metadata": {
  "kernelspec": {
   "display_name": "Python 3",
   "language": "python",
   "name": "python3"
  },
  "language_info": {
   "codemirror_mode": {
    "name": "ipython",
    "version": 3
   },
   "file_extension": ".py",
   "mimetype": "text/x-python",
   "name": "python",
   "nbconvert_exporter": "python",
   "pygments_lexer": "ipython3",
   "version": "3.8.8"
  }
 },
 "nbformat": 4,
 "nbformat_minor": 5
}
