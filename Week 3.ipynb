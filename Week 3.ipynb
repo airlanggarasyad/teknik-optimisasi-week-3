{
 "cells": [
  {
   "cell_type": "markdown",
   "id": "bbd84bcf",
   "metadata": {},
   "source": [
    "# Fibonacci Search"
   ]
  },
  {
   "cell_type": "code",
   "execution_count": 1,
   "id": "eec2f14a",
   "metadata": {},
   "outputs": [],
   "source": [
    "def generateFibonacci(arrayLength):\n",
    "    fibonacciArray = [1, 1]\n",
    "    \n",
    "    for i in range(arrayLength - 2):\n",
    "        result = fibonacciArray[-1]  + fibonacciArray[-2]\n",
    "        fibonacciArray.append(result)\n",
    "        \n",
    "    return fibonacciArray"
   ]
  },
  {
   "cell_type": "code",
   "execution_count": 2,
   "id": "368d73fd",
   "metadata": {},
   "outputs": [],
   "source": [
    "def fibonacciSearch(usrFunction, a, b, fibonacciLength):\n",
    "\n",
    "    fibonacciArray = generateFibonacci(fibonacciLength)\n",
    "\n",
    "    while fibonacciArray[-1] + fibonacciArray[-2] != 2:\n",
    "        fibonacciLastIndex = len(fibonacciArray) - 1\n",
    "\n",
    "        c_index = -3\n",
    "        d_index = -2\n",
    "\n",
    "\n",
    "        c = a + (fibonacciArray[c_index]/fibonacciArray[fibonacciLastIndex] * (b - a))\n",
    "        d = a + (fibonacciArray[d_index]/fibonacciArray[fibonacciLastIndex] * (b - a))\n",
    "\n",
    "        if usrFunction(c) < usrFunction(d):\n",
    "            b = d\n",
    "            d = c\n",
    "        else:\n",
    "            d = c\n",
    "            a = c\n",
    "\n",
    "        fibonacciArray.pop()\n",
    "        \n",
    "    return [c, usrFunction(c)]"
   ]
  },
  {
   "cell_type": "markdown",
   "id": "474e93fe",
   "metadata": {},
   "source": [
    "# Golden Section Search"
   ]
  },
  {
   "cell_type": "code",
   "execution_count": 3,
   "id": "397f3f16",
   "metadata": {},
   "outputs": [],
   "source": [
    "PHI = (1 + 5 ** 0.5) / 2\n",
    "\n",
    "def goldenSection(usrFunction, a, b, maxIter):\n",
    "    for i in range(maxIter):\n",
    "        c = b + (a - b) / PHI\n",
    "        d = a + (b - a) / PHI\n",
    "\n",
    "        if usrFunction(c) < usrFunction(d):\n",
    "            b = d\n",
    "            d = c\n",
    "        else:\n",
    "            d = c\n",
    "            a = c\n",
    "        \n",
    "    return [c, usrFunction(c)]"
   ]
  },
  {
   "cell_type": "markdown",
   "id": "a2dac9ef",
   "metadata": {},
   "source": [
    "# Successive Quadratic"
   ]
  },
  {
   "cell_type": "code",
   "execution_count": 4,
   "id": "0d43cd5f",
   "metadata": {},
   "outputs": [],
   "source": [
    "def successiveQuadratic(usrFunction, x1, delta, maxIter):\n",
    "    x2 = x1 + delta\n",
    "    \n",
    "    if usrFunction(x1) > usrFunction(x2):\n",
    "        x3 = x1 + (2 * delta)\n",
    "    else:\n",
    "        x3 = x1 - (2 * delta)\n",
    "        \n",
    "    threeBestVal = dict({x1:usrFunction(x1), x2:usrFunction(x2), x3:usrFunction(x3),})\n",
    "    threeBestVal = {k: v for k, v in sorted(threeBestVal.items(), key=lambda item: item[1])}\n",
    "    \n",
    "    for i in range(maxIter):\n",
    "        a1 = (threeBestVal[x2] - threeBestVal[x1]) / (x2 - x1)\n",
    "        a2 = (1 / (x3 - x2)) * (((threeBestVal[x3] - threeBestVal[x1]) / (x3 - x1)) - a1)\n",
    "\n",
    "        x_bar = ((x1 + x2) / 2) - (a1 / (2 * a2))\n",
    "        threeBestVal[x_bar] = usrFunction(x_bar)\n",
    "\n",
    "        threeBestVal = {k: v for k, v in sorted(threeBestVal.items(), key=lambda item: item[1])}\n",
    "        \n",
    "        threeBestValIndex = list(threeBestVal.keys())\n",
    "        xBarLocation = threeBestValIndex.index(x_bar)\n",
    "        \n",
    "        [x1, x2, x3] = threeBestValIndex[xBarLocation-1:xBarLocation+2]\n",
    "        threeBestVal = dict({x1:usrFunction(x1), x2:usrFunction(x2), x3:usrFunction(x3),})\n",
    "        \n",
    "    return [x_bar, usrFunction(x_bar)]"
   ]
  },
  {
   "cell_type": "markdown",
   "id": "bcf109e5",
   "metadata": {},
   "source": [
    "# Output Test"
   ]
  },
  {
   "cell_type": "code",
   "execution_count": 5,
   "id": "fa19a0db",
   "metadata": {},
   "outputs": [
    {
     "name": "stdout",
     "output_type": "stream",
     "text": [
      "\u001b[32mFibonacci Search\u001b[0m\n",
      "Function minima is equal to 27.003935269955956 at x = 3.036363636363636. \n",
      "\n",
      "\u001b[32mGolden Section Search\u001b[0m\n",
      "Function minima is equal to 27.000115898590614 at x = 2.993788759969716. \n",
      "\n",
      "\u001b[32mSuccessive Quadratic Search\u001b[0m\n",
      "Function minima is equal to 27.0 at x = 2.9999999994076694.\n"
     ]
    }
   ],
   "source": [
    "myFunction = lambda x: x**2 + 54/x\n",
    "\n",
    "print(\"\\x1b[32mFibonacci Search\\x1b[0m\")\n",
    "[x_min, y_min] = fibonacciSearch(usrFunction = myFunction, a = 1, b = 5, fibonacciLength = 10)\n",
    "print(f\"Function minima is equal to {y_min} at x = {x_min}. \\n\")\n",
    "\n",
    "print(\"\\x1b[32mGolden Section Search\\x1b[0m\")\n",
    "[x_min, y_min] = goldenSection(usrFunction = myFunction, a = 1, b = 5, maxIter = 10)\n",
    "print(f\"Function minima is equal to {y_min} at x = {x_min}. \\n\")\n",
    "\n",
    "print(\"\\x1b[32mSuccessive Quadratic Search\\x1b[0m\")\n",
    "[x_min, y_min] = successiveQuadratic(usrFunction = myFunction, x1 = 1, maxIter = 10, delta = 1)\n",
    "print(f\"Function minima is equal to {y_min} at x = {x_min}.\")"
   ]
  }
 ],
 "metadata": {
  "kernelspec": {
   "display_name": "Python 3",
   "language": "python",
   "name": "python3"
  },
  "language_info": {
   "codemirror_mode": {
    "name": "ipython",
    "version": 3
   },
   "file_extension": ".py",
   "mimetype": "text/x-python",
   "name": "python",
   "nbconvert_exporter": "python",
   "pygments_lexer": "ipython3",
   "version": "3.8.8"
  }
 },
 "nbformat": 4,
 "nbformat_minor": 5
}
