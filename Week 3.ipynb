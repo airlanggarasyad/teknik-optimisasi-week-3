{
 "cells": [
  {
   "cell_type": "markdown",
   "id": "dbd95442",
   "metadata": {},
   "source": [
    "# Fibonacci Search"
   ]
  },
  {
   "cell_type": "code",
   "execution_count": 1,
   "id": "01c70011",
   "metadata": {},
   "outputs": [],
   "source": [
    "def generateFibonacci(arrayLength):\n",
    "    fibonacciArray = [1, 1]\n",
    "    \n",
    "    for i in range(arrayLength - 2):\n",
    "        result = fibonacciArray[-1]  + fibonacciArray[-2]\n",
    "        fibonacciArray.append(result)\n",
    "        \n",
    "    return fibonacciArray"
   ]
  },
  {
   "cell_type": "code",
   "execution_count": 2,
   "id": "2e04fc70",
   "metadata": {},
   "outputs": [],
   "source": [
    "def fibonacciSearch(usrFunction, a, b, fibonacciLength):\n",
    "\n",
    "    fibonacciArray = generateFibonacci(fibonacciLength)\n",
    "\n",
    "    while fibonacciArray[-1] + fibonacciArray[-2] != 2:\n",
    "        fibonacciLastIndex = len(fibonacciArray) - 1\n",
    "\n",
    "        c_index = -3\n",
    "        d_index = -2\n",
    "\n",
    "\n",
    "        c = a + (fibonacciArray[c_index]/fibonacciArray[fibonacciLastIndex] * (b - a))\n",
    "        d = a + (fibonacciArray[d_index]/fibonacciArray[fibonacciLastIndex] * (b - a))\n",
    "\n",
    "        if usrFunction(c) < usrFunction(d):\n",
    "            b = d\n",
    "            d = c\n",
    "        else:\n",
    "            d = c\n",
    "            a = c\n",
    "\n",
    "        fibonacciArray.pop()\n",
    "        \n",
    "    return [c, usrFunction(c)]"
   ]
  },
  {
   "cell_type": "code",
   "execution_count": 3,
   "id": "f621fa7c",
   "metadata": {},
   "outputs": [
    {
     "name": "stdout",
     "output_type": "stream",
     "text": [
      "Function minima is 16.0 at x = -2.0.\n"
     ]
    }
   ],
   "source": [
    "[x_min, y_min] = fibonacciSearch(usrFunction = lambda x: x**2 + 4*x + 20, a = -5, b = 0, fibonacciLength = 10)\n",
    "print(f\"Function minima is equal to {y_min} at x = {x_min}.\")"
   ]
  }
 ],
 "metadata": {
  "kernelspec": {
   "display_name": "Python 3",
   "language": "python",
   "name": "python3"
  },
  "language_info": {
   "codemirror_mode": {
    "name": "ipython",
    "version": 3
   },
   "file_extension": ".py",
   "mimetype": "text/x-python",
   "name": "python",
   "nbconvert_exporter": "python",
   "pygments_lexer": "ipython3",
   "version": "3.8.8"
  }
 },
 "nbformat": 4,
 "nbformat_minor": 5
}
